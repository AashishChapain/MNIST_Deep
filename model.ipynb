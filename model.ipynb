{
 "cells": [
  {
   "cell_type": "code",
   "execution_count": 58,
   "metadata": {},
   "outputs": [],
   "source": [
    "import tensorflow as tf\n",
    "import pandas as pd\n",
    "import numpy as np"
   ]
  },
  {
   "cell_type": "code",
   "execution_count": 59,
   "metadata": {},
   "outputs": [],
   "source": [
    "train_data = pd.read_csv(r'D:\\Machine Learning\\Deep Learnings\\MNIST using Deep Learning\\train.csv')\n",
    "test_data = pd.read_csv(r'D:\\Machine Learning\\Deep Learnings\\MNIST using Deep Learning\\test.csv')"
   ]
  },
  {
   "cell_type": "code",
   "execution_count": 60,
   "metadata": {},
   "outputs": [],
   "source": [
    "y_train = train_data['label']\n",
    "train_data = train_data.drop(['label'], axis=1)"
   ]
  },
  {
   "cell_type": "code",
   "execution_count": 61,
   "metadata": {},
   "outputs": [],
   "source": [
    "def norm(data):\n",
    "    return data/255"
   ]
  },
  {
   "cell_type": "code",
   "execution_count": 62,
   "metadata": {},
   "outputs": [],
   "source": [
    "train_data = norm(train_data)\n",
    "test_data = norm(test_data)"
   ]
  },
  {
   "cell_type": "code",
   "execution_count": 63,
   "metadata": {},
   "outputs": [],
   "source": [
    "from sklearn.model_selection import train_test_split\n",
    "X_train, X_test, y_train, y_test = train_test_split(train_data, y_train, test_size=0.33, random_state=42)\n",
    "X_test, X_val, y_test, y_val = train_test_split(X_test, y_test, test_size=0.5, random_state=42)"
   ]
  },
  {
   "cell_type": "code",
   "execution_count": 64,
   "metadata": {},
   "outputs": [],
   "source": [
    "# sequential API / using 3 layers 512-256-10\n",
    "model = tf.keras.Sequential(\n",
    "    [\n",
    "        tf.keras.Input(shape=(28*28)), #giving input shape to check total parametre on each layers later\n",
    "        tf.keras.layers.Dense(512, activation=\"relu\", name='first_layer'),\n",
    "        tf.keras.layers.Dense(256, activation=\"relu\", name='second_layer'),\n",
    "        tf.keras.layers.Dense(10, name='output_layer'),\n",
    "    ]\n",
    ")"
   ]
  },
  {
   "cell_type": "code",
   "execution_count": 65,
   "metadata": {},
   "outputs": [
    {
     "name": "stdout",
     "output_type": "stream",
     "text": [
      "Model: \"sequential_4\"\n",
      "_________________________________________________________________\n",
      " Layer (type)                Output Shape              Param #   \n",
      "=================================================================\n",
      " first_layer (Dense)         (None, 512)               401920    \n",
      "                                                                 \n",
      " second_layer (Dense)        (None, 256)               131328    \n",
      "                                                                 \n",
      " output_layer (Dense)        (None, 10)                2570      \n",
      "                                                                 \n",
      "=================================================================\n",
      "Total params: 535,818\n",
      "Trainable params: 535,818\n",
      "Non-trainable params: 0\n",
      "_________________________________________________________________\n",
      "None\n"
     ]
    }
   ],
   "source": [
    "print(model.summary())"
   ]
  },
  {
   "cell_type": "code",
   "execution_count": 66,
   "metadata": {},
   "outputs": [],
   "source": [
    "model.load_weights(r'D:\\Machine Learning\\Deep Learnings\\MNIST using Deep Learning\\model_weights.h5')"
   ]
  },
  {
   "cell_type": "code",
   "execution_count": 67,
   "metadata": {},
   "outputs": [],
   "source": [
    "#compiling the model and assigning losses, optimizers and metrics\n",
    "model.compile(\n",
    "    loss = tf.keras.losses.SparseCategoricalCrossentropy(from_logits=True), # from_logits = True uses softmax function in the output layer\n",
    "    # SparseCategoricalCrossentropy classifies integers for our output\n",
    "    optimizer = tf.keras.optimizers.Adam(learning_rate=0.001),\n",
    "    metrics = [\"accuracy\"],\n",
    ")"
   ]
  },
  {
   "cell_type": "code",
   "execution_count": 68,
   "metadata": {},
   "outputs": [
    {
     "name": "stdout",
     "output_type": "stream",
     "text": [
      "Epoch 1/30\n",
      "217/217 - 2s - loss: 3.3509e-08 - accuracy: 1.0000 - 2s/epoch - 9ms/step\n",
      "Epoch 2/30\n",
      "217/217 - 1s - loss: 1.1611e-08 - accuracy: 1.0000 - 886ms/epoch - 4ms/step\n",
      "Epoch 3/30\n",
      "217/217 - 1s - loss: 5.5562e-09 - accuracy: 1.0000 - 723ms/epoch - 3ms/step\n",
      "Epoch 4/30\n",
      "217/217 - 1s - loss: 3.5780e-09 - accuracy: 1.0000 - 736ms/epoch - 3ms/step\n",
      "Epoch 5/30\n",
      "217/217 - 1s - loss: 2.6147e-09 - accuracy: 1.0000 - 854ms/epoch - 4ms/step\n",
      "Epoch 6/30\n",
      "217/217 - 1s - loss: 1.9954e-09 - accuracy: 1.0000 - 955ms/epoch - 4ms/step\n",
      "Epoch 7/30\n",
      "217/217 - 1s - loss: 1.6686e-09 - accuracy: 1.0000 - 912ms/epoch - 4ms/step\n",
      "Epoch 8/30\n",
      "217/217 - 1s - loss: 1.2213e-09 - accuracy: 1.0000 - 917ms/epoch - 4ms/step\n",
      "Epoch 9/30\n",
      "217/217 - 1s - loss: 9.1170e-10 - accuracy: 1.0000 - 977ms/epoch - 5ms/step\n",
      "Epoch 10/30\n",
      "217/217 - 1s - loss: 7.9129e-10 - accuracy: 1.0000 - 885ms/epoch - 4ms/step\n",
      "Epoch 11/30\n",
      "217/217 - 1s - loss: 5.5046e-10 - accuracy: 1.0000 - 985ms/epoch - 5ms/step\n",
      "Epoch 12/30\n",
      "217/217 - 1s - loss: 4.1285e-10 - accuracy: 1.0000 - 901ms/epoch - 4ms/step\n",
      "Epoch 13/30\n",
      "217/217 - 1s - loss: 3.2684e-10 - accuracy: 1.0000 - 886ms/epoch - 4ms/step\n",
      "Epoch 14/30\n",
      "217/217 - 1s - loss: 2.7523e-10 - accuracy: 1.0000 - 1s/epoch - 5ms/step\n",
      "Epoch 15/30\n",
      "217/217 - 1s - loss: 2.0642e-10 - accuracy: 1.0000 - 717ms/epoch - 3ms/step\n",
      "Epoch 16/30\n",
      "217/217 - 1s - loss: 2.0642e-10 - accuracy: 1.0000 - 769ms/epoch - 4ms/step\n",
      "Epoch 17/30\n",
      "217/217 - 1s - loss: 1.3762e-10 - accuracy: 1.0000 - 744ms/epoch - 3ms/step\n",
      "Epoch 18/30\n",
      "217/217 - 1s - loss: 1.5482e-10 - accuracy: 1.0000 - 873ms/epoch - 4ms/step\n",
      "Epoch 19/30\n",
      "217/217 - 1s - loss: 1.5482e-10 - accuracy: 1.0000 - 928ms/epoch - 4ms/step\n",
      "Epoch 20/30\n",
      "217/217 - 1s - loss: 6.8808e-11 - accuracy: 1.0000 - 874ms/epoch - 4ms/step\n",
      "Epoch 21/30\n",
      "217/217 - 1s - loss: 1.0321e-10 - accuracy: 1.0000 - 652ms/epoch - 3ms/step\n",
      "Epoch 22/30\n",
      "217/217 - 1s - loss: 8.6010e-11 - accuracy: 1.0000 - 773ms/epoch - 4ms/step\n",
      "Epoch 23/30\n",
      "217/217 - 1s - loss: 6.8808e-11 - accuracy: 1.0000 - 823ms/epoch - 4ms/step\n",
      "Epoch 24/30\n",
      "217/217 - 1s - loss: 1.0321e-10 - accuracy: 1.0000 - 867ms/epoch - 4ms/step\n",
      "Epoch 25/30\n",
      "217/217 - 1s - loss: 5.1606e-11 - accuracy: 1.0000 - 883ms/epoch - 4ms/step\n",
      "Epoch 26/30\n",
      "217/217 - 1s - loss: 3.4404e-11 - accuracy: 1.0000 - 646ms/epoch - 3ms/step\n",
      "Epoch 27/30\n",
      "217/217 - 1s - loss: 8.6010e-11 - accuracy: 1.0000 - 645ms/epoch - 3ms/step\n",
      "Epoch 28/30\n",
      "217/217 - 1s - loss: 5.1606e-11 - accuracy: 1.0000 - 903ms/epoch - 4ms/step\n",
      "Epoch 29/30\n",
      "217/217 - 1s - loss: 5.1606e-11 - accuracy: 1.0000 - 874ms/epoch - 4ms/step\n",
      "Epoch 30/30\n",
      "217/217 - 1s - loss: 3.4404e-11 - accuracy: 1.0000 - 928ms/epoch - 4ms/step\n"
     ]
    },
    {
     "data": {
      "text/plain": [
       "<keras.callbacks.History at 0x209b2fc0580>"
      ]
     },
     "execution_count": 68,
     "metadata": {},
     "output_type": "execute_result"
    }
   ],
   "source": [
    "model.fit(X_val, y_val, batch_size=32, epochs=30, verbose=2)"
   ]
  },
  {
   "cell_type": "code",
   "execution_count": 69,
   "metadata": {},
   "outputs": [
    {
     "name": "stdout",
     "output_type": "stream",
     "text": [
      "217/217 - 1s - loss: 0.4208 - accuracy: 0.9641 - 780ms/epoch - 4ms/step\n"
     ]
    },
    {
     "data": {
      "text/plain": [
       "[0.420849084854126, 0.9640692472457886]"
      ]
     },
     "execution_count": 69,
     "metadata": {},
     "output_type": "execute_result"
    }
   ],
   "source": [
    "model.evaluate(X_test, y_test, batch_size=32, verbose=2)"
   ]
  },
  {
   "cell_type": "code",
   "execution_count": 70,
   "metadata": {},
   "outputs": [],
   "source": [
    "model.save_weights(r'D:\\Machine Learning\\Deep Learnings\\MNIST using Deep Learning\\model_weights.h5')"
   ]
  },
  {
   "cell_type": "code",
   "execution_count": 71,
   "metadata": {},
   "outputs": [
    {
     "data": {
      "text/plain": [
       "(28000, 10)"
      ]
     },
     "execution_count": 71,
     "metadata": {},
     "output_type": "execute_result"
    }
   ],
   "source": [
    "Y_pred = model.predict(test_data)\n",
    "Y_pred.shape"
   ]
  },
  {
   "cell_type": "code",
   "execution_count": 72,
   "metadata": {},
   "outputs": [
    {
     "data": {
      "text/plain": [
       "(28000,)"
      ]
     },
     "execution_count": 72,
     "metadata": {},
     "output_type": "execute_result"
    }
   ],
   "source": [
    "Y_pred = Y_pred.argmax(axis=1)\n",
    "Y_pred.shape"
   ]
  },
  {
   "cell_type": "code",
   "execution_count": 73,
   "metadata": {},
   "outputs": [],
   "source": [
    "y_true = pd.read_csv(r'D:\\Machine Learning\\Deep Learnings\\MNIST using Deep Learning\\sample_submission.csv')\n",
    "image_id = y_true['ImageId']"
   ]
  },
  {
   "cell_type": "code",
   "execution_count": 74,
   "metadata": {},
   "outputs": [],
   "source": [
    "submission = {\n",
    "    'ImageId': image_id,\n",
    "    'Label': Y_pred\n",
    "}"
   ]
  },
  {
   "cell_type": "code",
   "execution_count": 76,
   "metadata": {},
   "outputs": [],
   "source": [
    "df = pd.DataFrame(submission)\n",
    "df.to_csv('submission.csv', index=False)"
   ]
  },
  {
   "cell_type": "code",
   "execution_count": null,
   "metadata": {},
   "outputs": [],
   "source": []
  }
 ],
 "metadata": {
  "interpreter": {
   "hash": "799a1a7eaead9d828d050152b9086cad1fe59e01a802bfd9c782244e1daeb105"
  },
  "kernelspec": {
   "display_name": "Python 3.9.9 ('machine_learning')",
   "language": "python",
   "name": "python3"
  },
  "language_info": {
   "codemirror_mode": {
    "name": "ipython",
    "version": 3
   },
   "file_extension": ".py",
   "mimetype": "text/x-python",
   "name": "python",
   "nbconvert_exporter": "python",
   "pygments_lexer": "ipython3",
   "version": "3.9.9"
  },
  "orig_nbformat": 4
 },
 "nbformat": 4,
 "nbformat_minor": 2
}
