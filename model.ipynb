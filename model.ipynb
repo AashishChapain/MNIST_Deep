{
 "cells": [
  {
   "cell_type": "code",
   "execution_count": 1,
   "metadata": {},
   "outputs": [],
   "source": [
    "import tensorflow as tf\n",
    "import pandas as pd\n",
    "import numpy as np"
   ]
  },
  {
   "cell_type": "code",
   "execution_count": 2,
   "metadata": {},
   "outputs": [],
   "source": [
    "train_data = pd.read_csv(r'D:\\Machine Learning\\Deep Learnings\\MNIST using Deep Learning\\train.csv')\n",
    "test_data = pd.read_csv(r'D:\\Machine Learning\\Deep Learnings\\MNIST using Deep Learning\\test.csv')"
   ]
  },
  {
   "cell_type": "code",
   "execution_count": 3,
   "metadata": {},
   "outputs": [],
   "source": [
    "y_train = train_data['label']\n",
    "train_data = train_data.drop(['label'], axis=1)"
   ]
  },
  {
   "cell_type": "code",
   "execution_count": 4,
   "metadata": {},
   "outputs": [],
   "source": [
    "def norm(data):\n",
    "    return data/255"
   ]
  },
  {
   "cell_type": "code",
   "execution_count": 5,
   "metadata": {},
   "outputs": [],
   "source": [
    "train_data = norm(train_data)\n",
    "test_data = norm(test_data)"
   ]
  },
  {
   "cell_type": "code",
   "execution_count": 6,
   "metadata": {},
   "outputs": [],
   "source": [
    "from sklearn.model_selection import train_test_split\n",
    "X_train, X_test, y_train, y_test = train_test_split(train_data, y_train, test_size=0.33, random_state=42)\n",
    "X_test, X_val, y_test, y_val = train_test_split(X_test, y_test, test_size=0.5, random_state=42)"
   ]
  },
  {
   "cell_type": "code",
   "execution_count": 7,
   "metadata": {},
   "outputs": [],
   "source": [
    "# sequential API / using 3 layers 512-256-10\n",
    "model = tf.keras.Sequential(\n",
    "    [\n",
    "        tf.keras.Input(shape=(28*28)), #giving input shape to check total parametre on each layers later\n",
    "        tf.keras.layers.Dense(512, activation=\"relu\", name='first_layer'),\n",
    "        tf.keras.layers.Dense(256, activation=\"relu\", name='second_layer'),\n",
    "        tf.keras.layers.Dense(10, name='output_layer'),\n",
    "    ]\n",
    ")"
   ]
  },
  {
   "cell_type": "code",
   "execution_count": 8,
   "metadata": {},
   "outputs": [
    {
     "name": "stdout",
     "output_type": "stream",
     "text": [
      "Model: \"sequential\"\n",
      "_________________________________________________________________\n",
      " Layer (type)                Output Shape              Param #   \n",
      "=================================================================\n",
      " first_layer (Dense)         (None, 512)               401920    \n",
      "                                                                 \n",
      " second_layer (Dense)        (None, 256)               131328    \n",
      "                                                                 \n",
      " output_layer (Dense)        (None, 10)                2570      \n",
      "                                                                 \n",
      "=================================================================\n",
      "Total params: 535,818\n",
      "Trainable params: 535,818\n",
      "Non-trainable params: 0\n",
      "_________________________________________________________________\n",
      "None\n"
     ]
    }
   ],
   "source": [
    "print(model.summary())"
   ]
  },
  {
   "cell_type": "code",
   "execution_count": 9,
   "metadata": {},
   "outputs": [],
   "source": [
    "#compiling the model and assigning losses, optimizers and metrics\n",
    "model.compile(\n",
    "    loss = tf.keras.losses.SparseCategoricalCrossentropy(from_logits=True), # from_logits = True uses softmax function in the output layer\n",
    "    # SparseCategoricalCrossentropy classifies integers for our output\n",
    "    optimizer = tf.keras.optimizers.Adam(learning_rate=0.001),\n",
    "    metrics = [\"accuracy\"],\n",
    ")"
   ]
  },
  {
   "cell_type": "code",
   "execution_count": 10,
   "metadata": {},
   "outputs": [
    {
     "name": "stdout",
     "output_type": "stream",
     "text": [
      "Epoch 1/30\n",
      "217/217 - 2s - loss: 0.4549 - accuracy: 0.8633 - 2s/epoch - 10ms/step\n",
      "Epoch 2/30\n",
      "217/217 - 1s - loss: 0.1694 - accuracy: 0.9491 - 821ms/epoch - 4ms/step\n",
      "Epoch 3/30\n",
      "217/217 - 1s - loss: 0.0933 - accuracy: 0.9737 - 810ms/epoch - 4ms/step\n",
      "Epoch 4/30\n",
      "217/217 - 1s - loss: 0.0558 - accuracy: 0.9824 - 804ms/epoch - 4ms/step\n",
      "Epoch 5/30\n",
      "217/217 - 1s - loss: 0.0373 - accuracy: 0.9885 - 712ms/epoch - 3ms/step\n",
      "Epoch 6/30\n",
      "217/217 - 1s - loss: 0.0260 - accuracy: 0.9925 - 917ms/epoch - 4ms/step\n",
      "Epoch 7/30\n",
      "217/217 - 1s - loss: 0.0102 - accuracy: 0.9977 - 948ms/epoch - 4ms/step\n",
      "Epoch 8/30\n",
      "217/217 - 1s - loss: 0.0025 - accuracy: 0.9999 - 933ms/epoch - 4ms/step\n",
      "Epoch 9/30\n",
      "217/217 - 1s - loss: 0.0085 - accuracy: 0.9983 - 937ms/epoch - 4ms/step\n",
      "Epoch 10/30\n",
      "217/217 - 1s - loss: 0.0468 - accuracy: 0.9835 - 918ms/epoch - 4ms/step\n",
      "Epoch 11/30\n",
      "217/217 - 1s - loss: 0.0325 - accuracy: 0.9872 - 869ms/epoch - 4ms/step\n",
      "Epoch 12/30\n",
      "217/217 - 1s - loss: 0.0318 - accuracy: 0.9890 - 671ms/epoch - 3ms/step\n",
      "Epoch 13/30\n",
      "217/217 - 1s - loss: 0.0148 - accuracy: 0.9954 - 759ms/epoch - 3ms/step\n",
      "Epoch 14/30\n",
      "217/217 - 1s - loss: 0.0083 - accuracy: 0.9971 - 920ms/epoch - 4ms/step\n",
      "Epoch 15/30\n",
      "217/217 - 1s - loss: 0.0178 - accuracy: 0.9928 - 921ms/epoch - 4ms/step\n",
      "Epoch 16/30\n",
      "217/217 - 1s - loss: 0.0140 - accuracy: 0.9967 - 916ms/epoch - 4ms/step\n",
      "Epoch 17/30\n",
      "217/217 - 1s - loss: 0.0102 - accuracy: 0.9965 - 809ms/epoch - 4ms/step\n",
      "Epoch 18/30\n",
      "217/217 - 1s - loss: 9.2554e-04 - accuracy: 1.0000 - 708ms/epoch - 3ms/step\n",
      "Epoch 19/30\n",
      "217/217 - 1s - loss: 4.9257e-04 - accuracy: 0.9999 - 680ms/epoch - 3ms/step\n",
      "Epoch 20/30\n",
      "217/217 - 1s - loss: 1.2309e-04 - accuracy: 1.0000 - 888ms/epoch - 4ms/step\n",
      "Epoch 21/30\n",
      "217/217 - 1s - loss: 8.2520e-05 - accuracy: 1.0000 - 913ms/epoch - 4ms/step\n",
      "Epoch 22/30\n",
      "217/217 - 1s - loss: 6.7775e-05 - accuracy: 1.0000 - 896ms/epoch - 4ms/step\n",
      "Epoch 23/30\n",
      "217/217 - 1s - loss: 5.7189e-05 - accuracy: 1.0000 - 891ms/epoch - 4ms/step\n",
      "Epoch 24/30\n",
      "217/217 - 1s - loss: 4.9141e-05 - accuracy: 1.0000 - 660ms/epoch - 3ms/step\n",
      "Epoch 25/30\n",
      "217/217 - 1s - loss: 4.2556e-05 - accuracy: 1.0000 - 713ms/epoch - 3ms/step\n",
      "Epoch 26/30\n",
      "217/217 - 1s - loss: 3.7303e-05 - accuracy: 1.0000 - 818ms/epoch - 4ms/step\n",
      "Epoch 27/30\n",
      "217/217 - 1s - loss: 3.2661e-05 - accuracy: 1.0000 - 897ms/epoch - 4ms/step\n",
      "Epoch 28/30\n",
      "217/217 - 1s - loss: 2.8877e-05 - accuracy: 1.0000 - 893ms/epoch - 4ms/step\n",
      "Epoch 29/30\n",
      "217/217 - 1s - loss: 2.5541e-05 - accuracy: 1.0000 - 830ms/epoch - 4ms/step\n",
      "Epoch 30/30\n",
      "217/217 - 1s - loss: 2.2653e-05 - accuracy: 1.0000 - 708ms/epoch - 3ms/step\n"
     ]
    },
    {
     "data": {
      "text/plain": [
       "<keras.callbacks.History at 0x1c98141afd0>"
      ]
     },
     "execution_count": 10,
     "metadata": {},
     "output_type": "execute_result"
    }
   ],
   "source": [
    "model.fit(X_val, y_val, batch_size=32, epochs=30, verbose=2)"
   ]
  },
  {
   "cell_type": "code",
   "execution_count": 11,
   "metadata": {},
   "outputs": [
    {
     "name": "stdout",
     "output_type": "stream",
     "text": [
      "217/217 - 1s - loss: 0.2248 - accuracy: 0.9644 - 717ms/epoch - 3ms/step\n"
     ]
    },
    {
     "data": {
      "text/plain": [
       "[0.22476078569889069, 0.964357852935791]"
      ]
     },
     "execution_count": 11,
     "metadata": {},
     "output_type": "execute_result"
    }
   ],
   "source": [
    "model.evaluate(X_test, y_test, batch_size=32, verbose=2)"
   ]
  },
  {
   "cell_type": "code",
   "execution_count": 12,
   "metadata": {},
   "outputs": [
    {
     "name": "stdout",
     "output_type": "stream",
     "text": [
      "217/217 - 1s - loss: 0.2248 - accuracy: 0.9644 - 668ms/epoch - 3ms/step\n"
     ]
    },
    {
     "data": {
      "text/plain": [
       "[0.22476078569889069, 0.964357852935791]"
      ]
     },
     "execution_count": 12,
     "metadata": {},
     "output_type": "execute_result"
    }
   ],
   "source": [
    "model.evaluate(X_test, y_test, batch_size=32, verbose=2)"
   ]
  },
  {
   "cell_type": "code",
   "execution_count": 13,
   "metadata": {},
   "outputs": [],
   "source": [
    "Y_pred = model.predict(test_data)"
   ]
  }
 ],
 "metadata": {
  "interpreter": {
   "hash": "799a1a7eaead9d828d050152b9086cad1fe59e01a802bfd9c782244e1daeb105"
  },
  "kernelspec": {
   "display_name": "Python 3.9.9 ('machine_learning')",
   "language": "python",
   "name": "python3"
  },
  "language_info": {
   "codemirror_mode": {
    "name": "ipython",
    "version": 3
   },
   "file_extension": ".py",
   "mimetype": "text/x-python",
   "name": "python",
   "nbconvert_exporter": "python",
   "pygments_lexer": "ipython3",
   "version": "3.9.9"
  },
  "orig_nbformat": 4
 },
 "nbformat": 4,
 "nbformat_minor": 2
}
